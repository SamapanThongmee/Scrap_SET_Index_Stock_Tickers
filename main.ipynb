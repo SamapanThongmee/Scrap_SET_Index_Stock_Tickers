{
 "cells": [
  {
   "cell_type": "markdown",
   "metadata": {},
   "source": [
    "<h5><b>Install Package and Library</h5></b>"
   ]
  },
  {
   "cell_type": "code",
   "execution_count": 4,
   "metadata": {},
   "outputs": [
    {
     "name": "stdout",
     "output_type": "stream",
     "text": [
      "Requirement already satisfied: selenium in c:\\users\\samap\\appdata\\local\\packages\\pythonsoftwarefoundation.python.3.10_qbz5n2kfra8p0\\localcache\\local-packages\\python310\\site-packages (4.14.0)\n",
      "Requirement already satisfied: urllib3<3,>=1.26 in c:\\users\\samap\\appdata\\local\\packages\\pythonsoftwarefoundation.python.3.10_qbz5n2kfra8p0\\localcache\\local-packages\\python310\\site-packages (from urllib3[socks]<3,>=1.26->selenium) (1.26.16)\n",
      "Requirement already satisfied: trio~=0.17 in c:\\users\\samap\\appdata\\local\\packages\\pythonsoftwarefoundation.python.3.10_qbz5n2kfra8p0\\localcache\\local-packages\\python310\\site-packages (from selenium) (0.22.2)\n",
      "Requirement already satisfied: trio-websocket~=0.9 in c:\\users\\samap\\appdata\\local\\packages\\pythonsoftwarefoundation.python.3.10_qbz5n2kfra8p0\\localcache\\local-packages\\python310\\site-packages (from selenium) (0.11.1)\n",
      "Requirement already satisfied: certifi>=2021.10.8 in c:\\users\\samap\\appdata\\local\\packages\\pythonsoftwarefoundation.python.3.10_qbz5n2kfra8p0\\localcache\\local-packages\\python310\\site-packages (from selenium) (2023.5.7)\n",
      "Requirement already satisfied: attrs>=20.1.0 in c:\\users\\samap\\appdata\\local\\packages\\pythonsoftwarefoundation.python.3.10_qbz5n2kfra8p0\\localcache\\local-packages\\python310\\site-packages (from trio~=0.17->selenium) (23.1.0)\n",
      "Requirement already satisfied: sortedcontainers in c:\\users\\samap\\appdata\\local\\packages\\pythonsoftwarefoundation.python.3.10_qbz5n2kfra8p0\\localcache\\local-packages\\python310\\site-packages (from trio~=0.17->selenium) (2.4.0)\n",
      "Requirement already satisfied: idna in c:\\users\\samap\\appdata\\local\\packages\\pythonsoftwarefoundation.python.3.10_qbz5n2kfra8p0\\localcache\\local-packages\\python310\\site-packages (from trio~=0.17->selenium) (3.4)\n",
      "Requirement already satisfied: outcome in c:\\users\\samap\\appdata\\local\\packages\\pythonsoftwarefoundation.python.3.10_qbz5n2kfra8p0\\localcache\\local-packages\\python310\\site-packages (from trio~=0.17->selenium) (1.3.0.post0)\n",
      "Requirement already satisfied: sniffio in c:\\users\\samap\\appdata\\local\\packages\\pythonsoftwarefoundation.python.3.10_qbz5n2kfra8p0\\localcache\\local-packages\\python310\\site-packages (from trio~=0.17->selenium) (1.3.0)\n",
      "Requirement already satisfied: cffi>=1.14 in c:\\users\\samap\\appdata\\local\\packages\\pythonsoftwarefoundation.python.3.10_qbz5n2kfra8p0\\localcache\\local-packages\\python310\\site-packages (from trio~=0.17->selenium) (1.16.0)\n",
      "Requirement already satisfied: exceptiongroup>=1.0.0rc9 in c:\\users\\samap\\appdata\\local\\packages\\pythonsoftwarefoundation.python.3.10_qbz5n2kfra8p0\\localcache\\local-packages\\python310\\site-packages (from trio~=0.17->selenium) (1.1.3)\n",
      "Requirement already satisfied: wsproto>=0.14 in c:\\users\\samap\\appdata\\local\\packages\\pythonsoftwarefoundation.python.3.10_qbz5n2kfra8p0\\localcache\\local-packages\\python310\\site-packages (from trio-websocket~=0.9->selenium) (1.2.0)\n",
      "Requirement already satisfied: PySocks!=1.5.7,<2.0,>=1.5.6 in c:\\users\\samap\\appdata\\local\\packages\\pythonsoftwarefoundation.python.3.10_qbz5n2kfra8p0\\localcache\\local-packages\\python310\\site-packages (from urllib3[socks]<3,>=1.26->selenium) (1.7.1)\n",
      "Requirement already satisfied: pycparser in c:\\users\\samap\\appdata\\local\\packages\\pythonsoftwarefoundation.python.3.10_qbz5n2kfra8p0\\localcache\\local-packages\\python310\\site-packages (from cffi>=1.14->trio~=0.17->selenium) (2.21)\n",
      "Requirement already satisfied: h11<1,>=0.9.0 in c:\\users\\samap\\appdata\\local\\packages\\pythonsoftwarefoundation.python.3.10_qbz5n2kfra8p0\\localcache\\local-packages\\python310\\site-packages (from wsproto>=0.14->trio-websocket~=0.9->selenium) (0.14.0)\n",
      "Requirement already satisfied: webdriver-manager in c:\\users\\samap\\appdata\\local\\packages\\pythonsoftwarefoundation.python.3.10_qbz5n2kfra8p0\\localcache\\local-packages\\python310\\site-packages (4.0.1)\n",
      "Requirement already satisfied: requests in c:\\users\\samap\\appdata\\local\\packages\\pythonsoftwarefoundation.python.3.10_qbz5n2kfra8p0\\localcache\\local-packages\\python310\\site-packages (from webdriver-manager) (2.31.0)\n",
      "Requirement already satisfied: python-dotenv in c:\\users\\samap\\appdata\\local\\packages\\pythonsoftwarefoundation.python.3.10_qbz5n2kfra8p0\\localcache\\local-packages\\python310\\site-packages (from webdriver-manager) (1.0.0)\n",
      "Requirement already satisfied: packaging in c:\\users\\samap\\appdata\\local\\packages\\pythonsoftwarefoundation.python.3.10_qbz5n2kfra8p0\\localcache\\local-packages\\python310\\site-packages (from webdriver-manager) (22.0)\n",
      "Requirement already satisfied: charset-normalizer<4,>=2 in c:\\users\\samap\\appdata\\local\\packages\\pythonsoftwarefoundation.python.3.10_qbz5n2kfra8p0\\localcache\\local-packages\\python310\\site-packages (from requests->webdriver-manager) (3.1.0)\n",
      "Requirement already satisfied: idna<4,>=2.5 in c:\\users\\samap\\appdata\\local\\packages\\pythonsoftwarefoundation.python.3.10_qbz5n2kfra8p0\\localcache\\local-packages\\python310\\site-packages (from requests->webdriver-manager) (3.4)\n",
      "Requirement already satisfied: urllib3<3,>=1.21.1 in c:\\users\\samap\\appdata\\local\\packages\\pythonsoftwarefoundation.python.3.10_qbz5n2kfra8p0\\localcache\\local-packages\\python310\\site-packages (from requests->webdriver-manager) (1.26.16)\n",
      "Requirement already satisfied: certifi>=2017.4.17 in c:\\users\\samap\\appdata\\local\\packages\\pythonsoftwarefoundation.python.3.10_qbz5n2kfra8p0\\localcache\\local-packages\\python310\\site-packages (from requests->webdriver-manager) (2023.5.7)\n"
     ]
    },
    {
     "name": "stderr",
     "output_type": "stream",
     "text": [
      "'apt-get' is not recognized as an internal or external command,\n",
      "operable program or batch file.\n"
     ]
    }
   ],
   "source": [
    "# Install package\n",
    "!pip install selenium\n",
    "!pip install webdriver-manager\n",
    "\n",
    "# Install library\n",
    "import datetime as dt\n",
    "import numpy as np\n",
    "import os\n",
    "import pandas as pd\n",
    "import time\n",
    "from datetime import date, timedelta\n",
    "from selenium import webdriver\n",
    "from selenium.webdriver.common.by import By\n",
    "\n",
    "# Install wget\n",
    "!apt-get install wget\n",
    "\n",
    "# Download the chromedriver.exe from GitHub\n",
    "os.system('wget https://github.com/SamapanThongmee/Thai-Stock-Tickers-from-web-scrapping/blob/main/chromedriver.exe')\n",
    "\n",
    "# Create function\n",
    "def web_driver():\n",
    "    options = webdriver.ChromeOptions()\n",
    "    options.add_argument(\"--verbose\")\n",
    "    options.add_argument('--no-sandbox')\n",
    "    options.add_argument('--headless')\n",
    "    options.add_argument('--disable-gpu')\n",
    "    options.add_argument(\"--window-size=1920, 1200\")\n",
    "    options.add_argument('--disable-dev-shm-usage')\n",
    "    driver = webdriver.Chrome(options=options)\n",
    "    return driver\n",
    "\n",
    "driver = web_driver()"
   ]
  },
  {
   "cell_type": "markdown",
   "metadata": {},
   "source": [
    "<h4><b>Scrap Tickers</b></h4>"
   ]
  },
  {
   "cell_type": "code",
   "execution_count": 117,
   "metadata": {},
   "outputs": [],
   "source": [
    "def get_stock_data(url):\n",
    "    driver = web_driver()\n",
    "    driver.get(url)\n",
    "    data = driver.page_source\n",
    "    data_df = pd.read_html(data)[2]\n",
    "\n",
    "    clean_column = [c.replace('  (Click to sort Ascending)', '') for c in data_df.columns]\n",
    "    data_df.columns = clean_column\n",
    "    data_df = data_df.set_index('Symbol')\n",
    "\n",
    "    stocks = []\n",
    "    for stock in data_df.index:\n",
    "        stock = stock.split()[0]\n",
    "        stocks.append(stock)\n",
    "    return stocks\n",
    "\n",
    "# Define URLs for different categories\n",
    "categories = {\n",
    "    'AGRO_AGRI': 'https://www.set.or.th/en/market/index/set/agro/agri',\n",
    "    'AGRO_FOOD': 'https://www.set.or.th/en/market/index/set/agro/food',\n",
    "    'CONSUMP_FASION': 'https://www.set.or.th/en/market/index/set/consump/fashion',\n",
    "    'CONSUMP_HOME': 'https://www.set.or.th/en/market/index/set/consump/home',\n",
    "    'CONSUMP_PERSON': 'https://www.set.or.th/en/market/index/set/consump/person',\n",
    "    'FINCIAL_BANK': 'https://www.set.or.th/en/market/index/set/fincial/bank',\n",
    "    'FINCIAL_FIN': 'https://www.set.or.th/en/market/index/set/fincial/fin',\n",
    "    'FINCIAL_INSUR': 'https://www.set.or.th/en/market/index/set/fincial/insur',\n",
    "    'INDUS_AUTO' : 'https://www.set.or.th/en/market/index/set/indus/auto',\n",
    "    'INDUS_IMM' : 'https://www.set.or.th/en/market/index/set/indus/imm',\n",
    "    'INDUS_PAPER' : 'https://www.set.or.th/en/market/index/set/indus/paper',\n",
    "    'INDUS_PETRO' : 'https://www.set.or.th/en/market/index/set/indus/petro',\n",
    "    'INDUS_PKG' : 'https://www.set.or.th/en/market/index/set/indus/pkg',\n",
    "    'INDUS_STEEL' : 'https://www.set.or.th/en/market/index/set/indus/steel',\n",
    "    'PROPCON_CONMAT' : 'https://www.set.or.th/en/market/index/set/propcon/conmat',\n",
    "    'PROPCON_CONS' : 'https://www.set.or.th/en/market/index/set/propcon/cons',\n",
    "    'PROPCON_PROP' : 'https://www.set.or.th/en/market/index/set/propcon/prop',\n",
    "    'PROPCON_PF_REIT' : 'https://www.set.or.th/en/market/index/set/propcon/pf&reit',\n",
    "    'RESOURC_ENERG' : 'https://www.set.or.th/en/market/index/set/resourc/energ',\n",
    "    'SERVICE_COMM' : 'https://www.set.or.th/en/market/index/set/service/comm',\n",
    "    'SERVICE_HELTH' : 'https://www.set.or.th/en/market/index/set/service/helth',\n",
    "    'SERVICE_MEDIA' : 'https://www.set.or.th/en/market/index/set/service/media',\n",
    "    'SERVICE_PROF' : 'https://www.set.or.th/en/market/index/set/service/prof',\n",
    "    'SERVICE_TOURISM' : 'https://www.set.or.th/en/market/index/set/service/tourism',\n",
    "    'SERVICE_TRANS' : 'https://www.set.or.th/en/market/index/set/service/trans',\n",
    "    'TECH_ETRON' : 'https://www.set.or.th/en/market/index/set/tech/etron',\n",
    "    'TECH_ICT' : 'https://www.set.or.th/en/market/index/set/tech/ict'\n",
    "}\n",
    "\n",
    "result = {}\n",
    "for category, url in categories.items():\n",
    "    stocks = get_stock_data(url)\n",
    "    result[category] = stocks\n",
    "\n",
    "import pandas as pd\n",
    "\n",
    "data_list = []\n",
    "for i in range(27):\n",
    "    sector = list(result.keys())[i]\n",
    "    ticker = list(result.values())[i]\n",
    "    data = {'Sector': [sector] * len(ticker), 'Ticker': ticker}\n",
    "    data_list.append(pd.DataFrame(data))\n",
    "\n",
    "data = pd.concat(data_list, axis=0).reset_index(drop=True)\n",
    "data[['Sector', 'Industry']] = data['Sector'].str.split('_', 1, expand=True)\n",
    "tickers = data[['Sector', 'Industry', 'Ticker']]\n",
    "tickers"
   ]
  },
  {
   "cell_type": "markdown",
   "metadata": {},
   "source": [
    "<h4><b>Export to .csv</b></h4>"
   ]
  },
  {
   "cell_type": "code",
   "execution_count": null,
   "metadata": {},
   "outputs": [],
   "source": [
    "tickers.to_csv('tickers.csv')"
   ]
  }
 ],
 "metadata": {
  "kernelspec": {
   "display_name": "base",
   "language": "python",
   "name": "python3"
  },
  "language_info": {
   "codemirror_mode": {
    "name": "ipython",
    "version": 3
   },
   "file_extension": ".py",
   "mimetype": "text/x-python",
   "name": "python",
   "nbconvert_exporter": "python",
   "pygments_lexer": "ipython3",
   "version": "3.10.11"
  }
 },
 "nbformat": 4,
 "nbformat_minor": 2
}
