{
 "cells": [
  {
   "cell_type": "markdown",
   "metadata": {},
   "source": [
    "<h5><b>Install Package and Library</h5></b>"
   ]
  },
  {
   "cell_type": "code",
   "execution_count": null,
   "metadata": {},
   "outputs": [],
   "source": [
    "# Install package\n",
    "!pip install selenium\n",
    "\n",
    "# Install library\n",
    "import datetime as dt\n",
    "import numpy as np\n",
    "import os\n",
    "import pandas as pd\n",
    "import time\n",
    "from datetime import date, timedelta\n",
    "from selenium import webdriver\n",
    "from selenium.webdriver.common.by import By\n",
    "\n",
    "# Install wget\n",
    "!apt-get install wget\n",
    "\n",
    "# Download the chromedriver.exe from GitHub\n",
    "os.system('wget https://github.com/SamapanThongmee/Thai-Stock-Tickers-from-web-scrapping/blob/main/chromedriver.exe')\n",
    "\n",
    "\n",
    "\n",
    "\n",
    "def web_driver():\n",
    "    options = webdriver.ChromeOptions()\n",
    "    options.add_argument(\"--verbose\")\n",
    "    options.add_argument('--no-sandbox')\n",
    "    options.add_argument('--headless')\n",
    "    options.add_argument('--disable-gpu')\n",
    "    options.add_argument(\"--window-size=1920, 1200\")\n",
    "    options.add_argument('--disable-dev-shm-usage')\n",
    "    driver = webdriver.Chrome(options=options)\n",
    "    return driver\n",
    "\n",
    "driver = web_driver()"
   ]
  },
  {
   "cell_type": "markdown",
   "metadata": {},
   "source": [
    "<h4><b>Scrap Tickers</b></h4>"
   ]
  },
  {
   "cell_type": "code",
   "execution_count": null,
   "metadata": {},
   "outputs": [],
   "source": [
    "def get_stock_data(url):\n",
    "    driver = web_driver()\n",
    "    driver.get(url)\n",
    "    data = driver.page_source\n",
    "    data_df = pd.read_html(data)[2]\n",
    "\n",
    "    clean_column = [c.replace('  (Click to sort Ascending)', '') for c in data_df.columns]\n",
    "    data_df.columns = clean_column\n",
    "    data_df = data_df.set_index('Symbol')\n",
    "\n",
    "    stocks = []\n",
    "    for stock in data_df.index:\n",
    "        stock = stock.split()[0]\n",
    "        stocks.append(stock)\n",
    "    return stocks\n",
    "\n",
    "# Define URLs for different categories\n",
    "categories = {\n",
    "    'AGRO_AGRI': 'https://www.set.or.th/en/market/index/set/agro/agri',\n",
    "    'AGRO_FOOD': 'https://www.set.or.th/en/market/index/set/agro/food',\n",
    "    'CONSUMP_FASION': 'https://www.set.or.th/en/market/index/set/consump/fashion',\n",
    "    'CONSUMP_HOME': 'https://www.set.or.th/en/market/index/set/consump/home',\n",
    "    'CONSUMP_PERSON': 'https://www.set.or.th/en/market/index/set/consump/person',\n",
    "    'FINCIAL_BANK': 'https://www.set.or.th/en/market/index/set/fincial/bank',\n",
    "    'FINCIAL_FIN': 'https://www.set.or.th/en/market/index/set/fincial/fin',\n",
    "    'FINCIAL_INSUR': 'https://www.set.or.th/en/market/index/set/fincial/insur',\n",
    "    'INDUS_AUTO' : 'https://www.set.or.th/en/market/index/set/indus/auto',\n",
    "    'INDUS_IMM' : 'https://www.set.or.th/en/market/index/set/indus/imm',\n",
    "    'INDUS_PAPER' : 'https://www.set.or.th/en/market/index/set/indus/paper',\n",
    "    'INDUS_PETRO' : 'https://www.set.or.th/en/market/index/set/indus/petro',\n",
    "    'INDUS_PKG' : 'https://www.set.or.th/en/market/index/set/indus/pkg',\n",
    "    'INDUS_STEEL' : 'https://www.set.or.th/en/market/index/set/indus/steel',\n",
    "    'PROPCON_CONMAT' : 'https://www.set.or.th/en/market/index/set/propcon/conmat',\n",
    "    'PROPCON_CONS' : 'https://www.set.or.th/en/market/index/set/propcon/cons',\n",
    "    'PROPCON_PROP' : 'https://www.set.or.th/en/market/index/set/propcon/prop',\n",
    "    'PROPCON_PF_REIT' : 'https://www.set.or.th/en/market/index/set/propcon/pf&reit',\n",
    "    'RESOURC_ENERG' : 'https://www.set.or.th/en/market/index/set/resourc/energ',\n",
    "    'SERVICE_COMM' : 'https://www.set.or.th/en/market/index/set/service/comm',\n",
    "    'SERVICE_HELTH' : 'https://www.set.or.th/en/market/index/set/service/helth',\n",
    "    'SERVICE_MEDIA' : 'https://www.set.or.th/en/market/index/set/service/media',\n",
    "    'SERVICE_PROF' : 'https://www.set.or.th/en/market/index/set/service/prof',\n",
    "    'SERVICE_TOURISM' : 'https://www.set.or.th/en/market/index/set/service/tourism',\n",
    "    'SERVICE_TRANS' : 'https://www.set.or.th/en/market/index/set/service/trans',\n",
    "    'TECH_ETRON' : 'https://www.set.or.th/en/market/index/set/tech/etron',\n",
    "    'TECH_ICT' : 'https://www.set.or.th/en/market/index/set/tech/ict'\n",
    "}\n",
    "\n",
    "result = {}\n",
    "for category, url in categories.items():\n",
    "    stocks = get_stock_data(url)\n",
    "    result[category] = stocks\n",
    "\n",
    "result"
   ]
  }
 ],
 "metadata": {
  "kernelspec": {
   "display_name": "Python 3",
   "language": "python",
   "name": "python3"
  },
  "language_info": {
   "codemirror_mode": {
    "name": "ipython",
    "version": 3
   },
   "file_extension": ".py",
   "mimetype": "text/x-python",
   "name": "python",
   "nbconvert_exporter": "python",
   "pygments_lexer": "ipython3",
   "version": "3.10.11"
  }
 },
 "nbformat": 4,
 "nbformat_minor": 2
}
